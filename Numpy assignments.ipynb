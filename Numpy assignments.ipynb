{
 "cells": [
  {
   "cell_type": "markdown",
   "metadata": {},
   "source": [
    "**Question 1 :** Create a 4x2 integer array from a range between 10 to 50 such that the difference between each element is 5 .\n",
    "And print the attributes of array also."
   ]
  },
  {
   "cell_type": "code",
   "execution_count": 28,
   "metadata": {},
   "outputs": [
    {
     "data": {
      "text/plain": [
       "array([[10, 15],\n",
       "       [20, 25],\n",
       "       [30, 35],\n",
       "       [40, 45]])"
      ]
     },
     "execution_count": 28,
     "metadata": {},
     "output_type": "execute_result"
    }
   ],
   "source": [
    "# Solution --\n",
    "\n",
    "import numpy \n",
    "array = numpy.arange(10,50,5)  # np.arrange will create a array of all value possible between \n",
    "                               #  range (10,50) and a distance of 5 . \n",
    "\n",
    "reshaped_array = array.reshape(4,2) # array,reshape will convert that array into given dimentions\n",
    "reshaped_array"
   ]
  },
  {
   "cell_type": "code",
   "execution_count": 33,
   "metadata": {},
   "outputs": [
    {
     "data": {
      "text/plain": [
       "(4, 2)"
      ]
     },
     "execution_count": 33,
     "metadata": {},
     "output_type": "execute_result"
    }
   ],
   "source": [
    "reshaped_array.shape # gives shape of array"
   ]
  },
  {
   "cell_type": "code",
   "execution_count": 34,
   "metadata": {},
   "outputs": [
    {
     "data": {
      "text/plain": [
       "2"
      ]
     },
     "execution_count": 34,
     "metadata": {},
     "output_type": "execute_result"
    }
   ],
   "source": [
    "reshaped_array.ndim # gives dimensions of array"
   ]
  },
  {
   "cell_type": "code",
   "execution_count": 35,
   "metadata": {},
   "outputs": [
    {
     "data": {
      "text/plain": [
       "4"
      ]
     },
     "execution_count": 35,
     "metadata": {},
     "output_type": "execute_result"
    }
   ],
   "source": [
    "reshaped_array.itemsize # tells length of each element of array in bytes"
   ]
  },
  {
   "cell_type": "markdown",
   "metadata": {},
   "source": [
    "**Question 2 :** From the given numpy array return array of odd rows and even columns .\n",
    "\n",
    "sampleArray = numpy.array([[3 ,6, 9, 12], [15 ,18, 21, 24], \n",
    "[27 ,30, 33, 36], [39 ,42, 45, 48], [51 ,54, 57, 60]])"
   ]
  },
  {
   "cell_type": "code",
   "execution_count": 36,
   "metadata": {},
   "outputs": [
    {
     "data": {
      "text/plain": [
       "array([[ 6, 12],\n",
       "       [30, 36],\n",
       "       [54, 60]])"
      ]
     },
     "execution_count": 36,
     "metadata": {},
     "output_type": "execute_result"
    }
   ],
   "source": [
    "# Solution \n",
    "\n",
    "sampleArray = numpy.array([[3 ,6, 9, 12], [15 ,18, 21, 24], \n",
    "[27 ,30, 33, 36], [39 ,42, 45, 48], [51 ,54, 57, 60]])\n",
    "\n",
    "newArray = sampleArray[::2 , 1::2] #  '::2' tells the row to be choosen and '1::2' is used for colunm\n",
    "newArray"
   ]
  },
  {
   "cell_type": "markdown",
   "metadata": {},
   "source": [
    "**Question 3 :** Split the array into four equal-sized sub-arrays\n"
   ]
  },
  {
   "cell_type": "code",
   "execution_count": 43,
   "metadata": {},
   "outputs": [
    {
     "data": {
      "text/plain": [
       "array([[10, 11, 12],\n",
       "       [13, 14, 15],\n",
       "       [16, 17, 18],\n",
       "       [19, 20, 21],\n",
       "       [22, 23, 24],\n",
       "       [25, 26, 27],\n",
       "       [28, 29, 30],\n",
       "       [31, 32, 33]])"
      ]
     },
     "execution_count": 43,
     "metadata": {},
     "output_type": "execute_result"
    }
   ],
   "source": [
    "# Creating an array of size 8x3\n",
    "\n",
    "sampleArray = numpy.arange(10,34,1)\n",
    "reshapedArray = sampleArray.reshape(8,3)\n",
    "reshapedArray"
   ]
  },
  {
   "cell_type": "code",
   "execution_count": 45,
   "metadata": {},
   "outputs": [
    {
     "data": {
      "text/plain": [
       "[array([10, 11, 12, 13, 14, 15]),\n",
       " array([16, 17, 18, 19, 20, 21]),\n",
       " array([22, 23, 24, 25, 26, 27]),\n",
       " array([28, 29, 30, 31, 32, 33])]"
      ]
     },
     "execution_count": 45,
     "metadata": {},
     "output_type": "execute_result"
    }
   ],
   "source": [
    "# Dividing 8x3 array into 4 sub arrays\n",
    "\n",
    "subArrays = numpy.split(sampleArray , 4)\n",
    "subArrays"
   ]
  },
  {
   "cell_type": "markdown",
   "metadata": {},
   "source": [
    "**Question 4 :** Write the code to convert the values of Centigrade degrees into Fahrenheit degrees. Centigrade values are stored into a NumPy array."
   ]
  },
  {
   "cell_type": "code",
   "execution_count": 49,
   "metadata": {},
   "outputs": [
    {
     "data": {
      "text/plain": [
       "array([-17.77777778,  42.22222222, 207.82222222, 152.22222222,\n",
       "       481.77222222])"
      ]
     },
     "execution_count": 49,
     "metadata": {},
     "output_type": "execute_result"
    }
   ],
   "source": [
    "fvalues = [0, 12, 45.12, 34, 99.91] # list of values for which we want to calculate Centigrate degrees\n",
    "fvalue_array = numpy.array(fvalues) # convering list inot numpy array\n",
    "cel_values = 5*fvalue_array - 5*32/9  # formula for cinverting fahrenheit degrees into Centigrate degrees\n",
    "cel_values"
   ]
  },
  {
   "cell_type": "markdown",
   "metadata": {},
   "source": [
    "**Question 5 :** Write the code to get the unique elements of an array."
   ]
  },
  {
   "cell_type": "code",
   "execution_count": 50,
   "metadata": {},
   "outputs": [
    {
     "data": {
      "text/plain": [
       "array([10, 20, 30])"
      ]
     },
     "execution_count": 50,
     "metadata": {},
     "output_type": "execute_result"
    }
   ],
   "source": [
    "x = [10,10,20,20,30,30] # list of values\n",
    "\n",
    "x_array = numpy.array(x)\n",
    "\n",
    "unique = numpy.unique(x_array) # using this function of numpy we can directly find out the unique values\n",
    "unique"
   ]
  },
  {
   "cell_type": "code",
   "execution_count": 51,
   "metadata": {},
   "outputs": [
    {
     "data": {
      "text/plain": [
       "array([1, 2, 3])"
      ]
     },
     "execution_count": 51,
     "metadata": {},
     "output_type": "execute_result"
    }
   ],
   "source": [
    "# checking unique values in list of lists\n",
    "x = [[1,3],[2,3]]\n",
    "x_array = numpy.array(x)\n",
    "unique = numpy.unique(x_array)\n",
    "unique"
   ]
  },
  {
   "cell_type": "markdown",
   "metadata": {},
   "source": [
    "**Question 6 :** From the given 2-D array. Print max from axis 0 and min from axis 1\n",
    "\n",
    "sample_array = [[34,43,73],[82,22,12],[53,94,66]]"
   ]
  },
  {
   "cell_type": "code",
   "execution_count": 53,
   "metadata": {},
   "outputs": [
    {
     "data": {
      "text/plain": [
       "array([34, 12, 53])"
      ]
     },
     "execution_count": 53,
     "metadata": {},
     "output_type": "execute_result"
    }
   ],
   "source": [
    "sample_array = numpy.array([[34,43,73],[82,22,12],[53,94,66]])\n",
    "\n",
    "min_of_axis_one = numpy.amin(sample_array, 1) # .amin() function calculates the min value from the axis\n",
    "min_of_axis_one"
   ]
  },
  {
   "cell_type": "code",
   "execution_count": 54,
   "metadata": {},
   "outputs": [
    {
     "data": {
      "text/plain": [
       "array([82, 94, 73])"
      ]
     },
     "execution_count": 54,
     "metadata": {},
     "output_type": "execute_result"
    }
   ],
   "source": [
    "max_of_axis_one = numpy.amax(sample_array, 0) # .amax() function calculates the max value from the axis\n",
    "max_of_axis_one"
   ]
  },
  {
   "cell_type": "markdown",
   "metadata": {},
   "source": [
    "**Question 7 :** From the given Numpy array delete column two and insert new column in its place.\n",
    "\n",
    "sample_array = numpy.array([[34,43,73],[82,22,12],[53,94,66]]) "
   ]
  },
  {
   "cell_type": "code",
   "execution_count": 61,
   "metadata": {},
   "outputs": [
    {
     "data": {
      "text/plain": [
       "array([[34, 73],\n",
       "       [82, 12],\n",
       "       [53, 66]])"
      ]
     },
     "execution_count": 61,
     "metadata": {},
     "output_type": "execute_result"
    }
   ],
   "source": [
    "sample_array = numpy.array([[34,43,73],[82,22,12],[53,94,66]]) \n",
    "\n",
    "sample_array = numpy.delete(sample_array , 1, axis = 1) \n",
    "# numpy.delete function is used to deleting values from the array\n",
    "# sameple_array is the array from which we want to delete\n",
    "# '1' is the column number  [indexing of column and rows starts with 0]\n",
    "# axis =1 means that we want to perform this action vertically or we can say column wise\n",
    "sample_array"
   ]
  },
  {
   "cell_type": "code",
   "execution_count": 62,
   "metadata": {},
   "outputs": [
    {
     "data": {
      "text/plain": [
       "array([[34, 10, 73],\n",
       "       [82, 10, 12],\n",
       "       [53, 10, 66]])"
      ]
     },
     "execution_count": 62,
     "metadata": {},
     "output_type": "execute_result"
    }
   ],
   "source": [
    "arr = numpy.array([[10,10,10]])\n",
    "\n",
    "sample_array = numpy.insert(sample_array , 1 , arr , axis = 1)\n",
    "# numpy.insert is used to insert any values in array\n",
    "# all parameters are same as numpy.delete except 'arr' which is used for array that we want to insert\n",
    "sample_array"
   ]
  },
  {
   "cell_type": "markdown",
   "metadata": {},
   "source": [
    "**Question 8 :** Sort the given array along the first axis  and last axis .\n",
    "\n",
    "sample_array = numpy.array([[10,40],[30,20]])"
   ]
  },
  {
   "cell_type": "code",
   "execution_count": 63,
   "metadata": {},
   "outputs": [
    {
     "data": {
      "text/plain": [
       "array([[10, 20],\n",
       "       [30, 40]])"
      ]
     },
     "execution_count": 63,
     "metadata": {},
     "output_type": "execute_result"
    }
   ],
   "source": [
    "sample_array = numpy.array([[10,40],[30,20]])\n",
    "\n",
    "sort_first = numpy.sort(sample_array , axis=0) # .sort function is used to sort the passed array \n",
    "                                                # and axis = 0 mean that we want to do it along first axis \n",
    "                                                # or we can say horizontally\n",
    "sort_first"
   ]
  },
  {
   "cell_type": "code",
   "execution_count": 65,
   "metadata": {},
   "outputs": [
    {
     "data": {
      "text/plain": [
       "array([[10, 40],\n",
       "       [20, 30]])"
      ]
     },
     "execution_count": 65,
     "metadata": {},
     "output_type": "execute_result"
    }
   ],
   "source": [
    "sort_last = numpy.sort(sample_array , axis =1) # here axis = 1 mean that we want to perform operation \n",
    "                                               # vertically or last axis\n",
    "sort_last"
   ]
  },
  {
   "cell_type": "code",
   "execution_count": null,
   "metadata": {},
   "outputs": [],
   "source": []
  }
 ],
 "metadata": {
  "kernelspec": {
   "display_name": "Python 3",
   "language": "python",
   "name": "python3"
  },
  "language_info": {
   "codemirror_mode": {
    "name": "ipython",
    "version": 3
   },
   "file_extension": ".py",
   "mimetype": "text/x-python",
   "name": "python",
   "nbconvert_exporter": "python",
   "pygments_lexer": "ipython3",
   "version": "3.7.0"
  }
 },
 "nbformat": 4,
 "nbformat_minor": 2
}
